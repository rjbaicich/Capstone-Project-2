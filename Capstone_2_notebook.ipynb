{
 "cells": [
  {
   "attachments": {},
   "cell_type": "markdown",
   "metadata": {},
   "source": [
    "#### Randy Baicich                                                                                    "
   ]
  },
  {
   "attachments": {},
   "cell_type": "markdown",
   "metadata": {},
   "source": [
    "# Capstone Project 2: "
   ]
  },
  {
   "attachments": {},
   "cell_type": "markdown",
   "metadata": {},
   "source": [
    "# *Endangered Fish Species Flash Cards*"
   ]
  },
  {
   "attachments": {},
   "cell_type": "markdown",
   "metadata": {},
   "source": [
    "The dataset sourced to be used in this project was originally collected and is available for download from [Kaggle](https://www.kaggle.com/datasets/harshithgupta/endangered-fish-data?select=Combined_Less.csv)."
   ]
  },
  {
   "attachments": {},
   "cell_type": "markdown",
   "metadata": {},
   "source": [
    "*In this notebook, I will embark on an exciting journey through the Endangered Fish Species dataset, exploring its rich information and uncovering valuable insights. The primary objective is to conduct a comprehensive analysis of the data, delving into its various attributes and patterns. Additionally, I will leverage the power of Streamlit, a powerful app framework, to build an interactive application that enables users to explore and interact with the dataset in a user-friendly manner. Furthermore, visualizations will play a vital role in presenting the findings and showcasing the trends and relationships within the dataset. By combining data analysis, app development, and visualization techniques, this project aims to shed light on the endangered fish species, raise awareness about their conservation needs, and inspire actions that contribute to the preservation of our aquatic ecosystems. Let's dive in and discover the hidden stories behind the data!*"
   ]
  },
  {
   "attachments": {},
   "cell_type": "markdown",
   "metadata": {},
   "source": [
    "## Part 1: *Import and Clean the CSV file.*"
   ]
  },
  {
   "attachments": {},
   "cell_type": "markdown",
   "metadata": {},
   "source": [
    "#### *Import all necessary libraries.*"
   ]
  },
  {
   "cell_type": "code",
   "execution_count": null,
   "metadata": {},
   "outputs": [],
   "source": [
    "import pandas as pd\n",
    "import matplotlib.pyplot as plt"
   ]
  },
  {
   "attachments": {},
   "cell_type": "markdown",
   "metadata": {},
   "source": [
    "#### *Import the sourced Endangered Fish Species data.*"
   ]
  },
  {
   "cell_type": "code",
   "execution_count": null,
   "metadata": {},
   "outputs": [],
   "source": [
    "data = pd.read_csv('C:\\Users\\RedneckRandy\\Documents\\GitHub\\Capstone-Project-2\\Combined_Less.csv')\n"
   ]
  },
  {
   "attachments": {},
   "cell_type": "markdown",
   "metadata": {},
   "source": [
    "#### *Clean the CSV file/data.*"
   ]
  },
  {
   "cell_type": "code",
   "execution_count": null,
   "metadata": {},
   "outputs": [],
   "source": [
    "# Capitalize all columns\n",
    "data.columns = [col.capitalize().strip() for col in data.columns]"
   ]
  },
  {
   "cell_type": "code",
   "execution_count": null,
   "metadata": {},
   "outputs": [],
   "source": [
    "# Remove extra space in column names\n",
    "data.columns = data.columns.str.replace(' ', '')"
   ]
  },
  {
   "cell_type": "code",
   "execution_count": null,
   "metadata": {},
   "outputs": [],
   "source": [
    "# Remove columns starting with \"Unnamed\"\n",
    "data = data.loc[:, ~data.columns.str.startswith('Unnamed')]"
   ]
  },
  {
   "attachments": {},
   "cell_type": "markdown",
   "metadata": {},
   "source": [
    "## Part 2: *Analysis of the data*."
   ]
  },
  {
   "cell_type": "code",
   "execution_count": null,
   "metadata": {},
   "outputs": [],
   "source": [
    "# Show state with the most occurrences in the \"state\" column\n",
    "most_common_state = data['State'].mode()[0]\n",
    "print(\"State with the most occurrences:\", most_common_state)"
   ]
  },
  {
   "cell_type": "code",
   "execution_count": null,
   "metadata": {},
   "outputs": [],
   "source": [
    "# Show Year with the most occurrences in the \"Year\" column\n",
    "most_common_year = data['Year'].mode()[0]\n",
    "print(\"Year with the most occurrences:\", most_common_year)"
   ]
  },
  {
   "cell_type": "code",
   "execution_count": null,
   "metadata": {},
   "outputs": [],
   "source": [
    "# Total of 'SUMTOTAL' column\n",
    "total_sum_total = data['SUMTOTAL'].sum()\n",
    "print(\"Total SUMTOTAL:\", total_sum_total)\n"
   ]
  },
  {
   "cell_type": "code",
   "execution_count": null,
   "metadata": {},
   "outputs": [],
   "source": [
    "# Find the most common temperature in the \"temp\" column\n",
    "most_common_temp = data['Temp'].mode()[0]\n",
    "print(\"Most common temperature:\", most_common_temp))"
   ]
  },
  {
   "attachments": {},
   "cell_type": "markdown",
   "metadata": {},
   "source": [
    "# Part 3: *Visualize the data and communicate your results.*"
   ]
  },
  {
   "attachments": {},
   "cell_type": "markdown",
   "metadata": {},
   "source": [
    "#### *Visualization 1: Bar plot of Species vs State.*"
   ]
  },
  {
   "cell_type": "code",
   "execution_count": null,
   "metadata": {},
   "outputs": [],
   "source": [
    "data.groupby('Species')['State'].count().plot(kind='bar')\n",
    "plt.xlabel('Species')\n",
    "plt.ylabel('Count')\n",
    "plt.title('Species vs State')\n",
    "plt.show()"
   ]
  },
  {
   "attachments": {},
   "cell_type": "markdown",
   "metadata": {},
   "source": [
    "#### *Visualization 2: Scatter plot of Years.*"
   ]
  },
  {
   "cell_type": "code",
   "execution_count": null,
   "metadata": {},
   "outputs": [],
   "source": [
    "data.plot.scatter(x='Year', y='Index')\n",
    "plt.xlabel('Year')\n",
    "plt.ylabel('Index')\n",
    "plt.title('Scatter plot of Year')\n",
    "plt.show()"
   ]
  },
  {
   "attachments": {},
   "cell_type": "markdown",
   "metadata": {},
   "source": [
    "#### *Visualization 3: Bar plot of Species vs Temperature.*"
   ]
  },
  {
   "cell_type": "code",
   "execution_count": null,
   "metadata": {},
   "outputs": [],
   "source": [
    "data.groupby('Species')['Temp'].mean().plot(kind='bar')\n",
    "plt.xlabel('Species')\n",
    "plt.ylabel('Temperature')\n",
    "plt.title('Species vs Temperature')\n",
    "plt.show()"
   ]
  },
  {
   "attachments": {},
   "cell_type": "markdown",
   "metadata": {},
   "source": [
    "#### *Save the new cleaned CSV.*"
   ]
  },
  {
   "cell_type": "code",
   "execution_count": null,
   "metadata": {},
   "outputs": [],
   "source": [
    "data.to_csv('endangered_fish_sorted.csv', index=False)"
   ]
  },
  {
   "attachments": {},
   "cell_type": "markdown",
   "metadata": {},
   "source": [
    "# Part 4: *Findings, Summary, and Conclusion.*"
   ]
  },
  {
   "attachments": {},
   "cell_type": "markdown",
   "metadata": {},
   "source": []
  }
 ],
 "metadata": {
  "kernelspec": {
   "display_name": "Python 3",
   "language": "python",
   "name": "python3"
  },
  "language_info": {
   "name": "python",
   "version": "3.11.3"
  },
  "orig_nbformat": 4
 },
 "nbformat": 4,
 "nbformat_minor": 2
}
